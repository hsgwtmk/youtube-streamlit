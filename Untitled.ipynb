{
 "cells": [
  {
   "cell_type": "code",
   "execution_count": 1,
   "id": "8361179b-40aa-4d96-8dec-fedf44b5e657",
   "metadata": {},
   "outputs": [],
   "source": [
    "import tkinter\n"
   ]
  },
  {
   "cell_type": "code",
   "execution_count": 3,
   "id": "176d9409-486e-4583-a7d3-138f0160b3fc",
   "metadata": {},
   "outputs": [],
   "source": [
    "tkinter._test()"
   ]
  },
  {
   "cell_type": "code",
   "execution_count": null,
   "id": "4e54bd5d-f3fb-4a65-8850-ba5de8c4bc9f",
   "metadata": {},
   "outputs": [],
   "source": []
  }
 ],
 "metadata": {
  "kernelspec": {
   "display_name": "Python 3 (ipykernel)",
   "language": "python",
   "name": "python3"
  },
  "language_info": {
   "codemirror_mode": {
    "name": "ipython",
    "version": 3
   },
   "file_extension": ".py",
   "mimetype": "text/x-python",
   "name": "python",
   "nbconvert_exporter": "python",
   "pygments_lexer": "ipython3",
   "version": "3.10.4"
  }
 },
 "nbformat": 4,
 "nbformat_minor": 5
}
